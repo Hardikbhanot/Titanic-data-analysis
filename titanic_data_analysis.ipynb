{
 "cells": [
  {
   "cell_type": "markdown",
   "metadata": {},
   "source": [
    "## Oct2021 ASG1 Submission"
   ]
  },
  {
   "cell_type": "markdown",
   "metadata": {},
   "source": [
    "We will be using a modified, anonymized dataset from Titanic Passenger Data. This dataset is a partial sub-set of the full original data, with missing/unusual data already cleaned or adjusted.\n",
    "\n",
    "Column details:\n",
    "\n",
    "*passenger_id*: (anonymized, unique id numbers assigned to each passenger) <br>\n",
    "*pclass*: represents passenger cabin class, (1 - first class, 2 - second class, 3 - third class) <br>\n",
    "*survived*: (0 - no, 1 - yes) <br>\n",
    "*gender*: (0 - female, 1 - male) <br>\n",
    "*age*: (numerical age of passenger) <br>\n",
    "*sibsp*: (number of siblings and/or spouses the passenger had onboard together with them) <br>\n",
    "*parch*: (number of parents and/or children the passenger had onboard together with them) <br>\n",
    "*fare*: (assume in $US based on 1912 pricing) <br>\n"
   ]
  },
  {
   "cell_type": "markdown",
   "metadata": {},
   "source": [
    "Q1.\n",
    "Read the provided data file into Jupyter Notebook using suitable file opening functions, and perform the following tasks: <br> <br>\n",
    "i) Print a list (python data structure) of all the column header names of the dataset (the column names are in the first line of the data file) <br>\n",
    "ii) Print the first 5 column header names, followed by the first 5 rows of the data\n",
    "\n",
    "For ii), your output should clearly display the column names and the required rows of data as per the example below.\n",
    "\n",
    "Hint: Use Python's open() and readline() to open the provided file, and to read the file's column headers and rows of the data, line by line.\n",
    "\n",
    "Reminder: use of non-basic python such as csv or pandas libraries will result in 50% penalties."
   ]
  },
  {
   "cell_type": "code",
   "execution_count": 3,
   "metadata": {},
   "outputs": [
    {
     "name": "stdout",
     "output_type": "stream",
     "text": [
      "Printing headers of data in List : \n",
      "['passenger_id', 'survived', 'pclass', 'gender', 'age', 'sibsp', 'parch', 'fare']\n",
      "\n",
      "Printing 5 headers with 5 rows :\n",
      "passenger_id\tsurvived\tpclass\t\tgender\t\tage\n",
      "1\t\t 1\t\t1\t\t0\t\t29\n",
      "2\t\t 1\t\t1\t\t1\t\t1\n",
      "3\t\t 0\t\t1\t\t0\t\t2\n",
      "4\t\t 0\t\t1\t\t1\t\t30\n",
      "5\t\t 0\t\t1\t\t0\t\t25\n"
     ]
    }
   ],
   "source": [
    "# Answer to question 1.\n",
    "freader = open(\"titanic_mod.csv\",\"rb\")      #opeing file in read mode\n",
    "data = freader.readlines()                  #reading line by line using readline function\n",
    "headers = data[0].decode()                  #decoding the bytes to string \n",
    "headers = headers.split(\",\")                #spliting to list\n",
    "headers[0] = headers[0][1:20]               #slicing out the special characters\n",
    "headers[7] = headers[7][0:4]                #slicing out the special characters\n",
    "data[0] = data[0].decode()                  #decoding the bytes to string\n",
    "print(\"Printing headers of data in List : \")\n",
    "print(headers)                              #printing the list of header name (i) part\n",
    "print(\"\\nPrinting 5 headers with 5 rows :\") \n",
    "print(f\"{headers[0]}\\t{headers[1]}\\t{headers[2]}\\t\\t{headers[3]}\\t\\t{headers[4]}\")      #Printing the first 5 column header names, followed by the first 5 rows (ii) part\n",
    "for i in range(1,6):                        #loop to iterate through the data from 1st to 5th row\n",
    "    data[i] = data[i].decode()\n",
    "    data[i] = data[i].split(',')\n",
    "    print(f\"{data[i][0]}\\t\\t {data[i][1]}\\t\\t{data[i][2]}\\t\\t{data[i][3]}\\t\\t{data[i][4]}\")\n",
    "\n",
    "freader.close()                             #closing the file"
   ]
  },
  {
   "cell_type": "markdown",
   "metadata": {},
   "source": [
    "Q2.   \n",
    "Using relevant numpy functions, load the data file into an array, excluding the first row of column headers.  Display the contents and properties of the array as per the below example.  You may need to use numpy’s set_printoptions() function to achieve the desired display).\n",
    "\n",
    "Hint: Use numpy's genfromtxt() function to load data from a text or csv file. Read documentation and consider carefully what parameters to use when calling genfromtxt()."
   ]
  },
  {
   "cell_type": "code",
   "execution_count": 4,
   "metadata": {},
   "outputs": [
    {
     "name": "stdout",
     "output_type": "stream",
     "text": [
      "2-D Array of Titain Details\n",
      "[[   1.        1.        1.     ...    0.        0.      211.3375]\n",
      " [   2.        1.        1.     ...    1.        2.      151.55  ]\n",
      " [   3.        0.        1.     ...    1.        2.      151.55  ]\n",
      " ...\n",
      " [1044.        0.        3.     ...    0.        0.        7.225 ]\n",
      " [1045.        0.        3.     ...    0.        0.        7.225 ]\n",
      " [1046.        0.        3.     ...    0.        0.        7.875 ]]\n",
      "\n",
      "The size of the array is  8368\n",
      "The shape of the array is  (1046, 8)\n"
     ]
    }
   ],
   "source": [
    "import numpy as np          #importing library numpy\n",
    "\n",
    "#reading dataset as numpy array using function genfromtext() by skiping the header part from the file and splitting at \",\"\n",
    "data_set = np.genfromtxt('titanic_mod.csv',skip_header=1,delimiter=\",\",filling_values=None)      \n",
    "np.set_printoptions(suppress=True)          #using set_printoptions() function to remove the extra zeros\n",
    "print(\"2-D Array of Titain Details\")\n",
    "print(data_set)                             #printing the numpy array\n",
    "print(\"\\nThe size of the array is \",data_set.size)  #printing the size of array\n",
    "print(\"The shape of the array is \",data_set.shape)  #printing the shape of array\n"
   ]
  },
  {
   "cell_type": "markdown",
   "metadata": {},
   "source": [
    "Q3.   \n",
    "Write a user-defined function that has two parameters: a column index and a passenger age number. It will count the occurrences of the passenger age number in the column index of the numpy array and return the total occurrences.\n",
    "\n",
    "Use the above user-defined function to answer the following question:\n",
    "\n",
    "In the dataset, print the 3 most frequent ages of the passengers. Include the proportion as a % out of entire passenger manifest, to 3 decimal places, for each age."
   ]
  },
  {
   "cell_type": "code",
   "execution_count": 5,
   "metadata": {},
   "outputs": [
    {
     "name": "stdout",
     "output_type": "stream",
     "text": [
      "Passengers aged 24 accounted for 4.589% of the passenger population\n",
      "Passengers aged 30 accounted for 4.111% of the passenger population\n",
      "Passengers aged 22 accounted for 4.111% of the passenger population\n"
     ]
    }
   ],
   "source": [
    "# Answer to question 3.\n",
    "import numpy as np                  #importing library numpy\n",
    "\n",
    "#reading dataset as numpy array using function genfromtext() by skiping the header part from the file and splitting at \",\"\n",
    "dataset = np.genfromtxt(\"titanic_mod.csv\",dtype=\"int\",skip_header=1,delimiter=\",\")\n",
    "def passengerAge(column_index,passenger_age):               #user-defined function according to the question \n",
    "    \n",
    "    age_count=0\n",
    "    for i in dataset:                                       #loop to iterate through the dataset\n",
    "        if passenger_age==i[column_index]:                  #if statement to find specific age in the dataset\n",
    "            age_count+=1                                    #when found increasing the value of counter variable by 1\n",
    "    return age_count                                        #returning the value of counter variable\n",
    "ages = []               #blank list of name ages\n",
    "for i in dataset:                                           #loop to iterate through dataset\n",
    "    ages.append(i[4])                                       #appending to list of name ages\n",
    "ages = set(ages)                                            #converting list into set                                       \n",
    "occurences = []         #blank list of name occurances\n",
    "for i in ages:                                              #loop to iterate through the list ages\n",
    "    occurences.append([i,passengerAge(4,i)])                #appending to list of name occurences\n",
    "occurences = np.array(occurences)                           #coverting list to numpy array\n",
    "occurences = occurences[occurences[:,1].argsort()[::-1]]    #sorting the array using argsort()\n",
    "# print(occurences)\n",
    "for i in range(0,3):                    #loop for printing the three most frequent ages\n",
    "    print(f\"Passengers aged {occurences[i][0]} accounted for {((passengerAge(4,occurences[i][0])/1046)*100):.3f}% of the passenger population\")\n"
   ]
  },
  {
   "cell_type": "markdown",
   "metadata": {},
   "source": [
    "Q4.   \n",
    "It is often important to explore the data to gain preliminary insights, before proceeding to predictive models or deciding on a problem statement to investigate.\n",
    "\n",
    "Please print out the following values amongst passengers (when appropriate, to 2 decimal places): <br>\n",
    "\n",
    "    i)   Highest value of number of siblings and/or spouses onboard\n",
    "    ii)  Mean value of parents and/or children onboard\n",
    "    iii) 50th-percentile value of fare paid\n",
    "    iv)  Cheapest non-zero fare paid\n",
    "\n"
   ]
  },
  {
   "cell_type": "code",
   "execution_count": 6,
   "metadata": {},
   "outputs": [
    {
     "name": "stdout",
     "output_type": "stream",
     "text": [
      "Highest value of number of siblings and/or spouses onboard are 8\n",
      "50th percentile value of fare paid is 15.0\n",
      "Cheapest non-zero fare paid are 3\n",
      "Mean value of parents and/or children onboard is 0.42\n"
     ]
    }
   ],
   "source": [
    "# Answer to question 4.\n",
    "\n",
    "#reading dataset as numpy array using function genfromtext() by skiping the header part from the file and splitting at \",\"\n",
    "dataset = np.genfromtxt(\"titanic_mod.csv\",dtype=\"int\",skip_header=1,delimiter=\",\")\n",
    "max_sibling=0                           #variable for highest number of sibling\n",
    "cheapest_fare=300                       #variable for lowest fare \n",
    "total_parch=0                           #varibale for total parents and children\n",
    "total_passenger=0                       #variable for total passengers\n",
    "fares=[]                                #List to store the fares\n",
    "for i in dataset:                       #loop to iterate through the dataset\n",
    "    total_parch+=i[6]                   #increasing the value of counter variable according to data set\n",
    "    total_passenger+=1                  #increasing the value of counter variable according to data set\n",
    "    fares.append(i[7])                  #appending the fares to the list\n",
    "    mean_parch=total_parch/total_passenger  #Mean of total parent and children\n",
    "    if i[7]<cheapest_fare and i[7]>0:       #checking if cheapest fare earlier is less than this value and is greater than 1\n",
    "        cheapest_fare=i[7]                  #updating cheapest fare value\n",
    "    if max_sibling<=i[5]:                   #comparing max sibling value\n",
    "        max_sibling=i[5]\n",
    "fares.sort()                    #sorting fares \n",
    "fare_percentile=np.percentile(fares,50)         #50th percentile of fares\n",
    "\n",
    "#printing all the desired values according to the question\n",
    "print(f\"Highest value of number of siblings and/or spouses onboard are {max_sibling}\")        \n",
    "print(f\"50th percentile value of fare paid is {fare_percentile}\")\n",
    "print(f\"Cheapest non-zero fare paid are {cheapest_fare}\")\n",
    "print(f\"Mean value of parents and/or children onboard is {'%.2f'%mean_parch}\")\n"
   ]
  },
  {
   "cell_type": "markdown",
   "metadata": {},
   "source": [
    "Q5.   \n",
    "An example of a more advanced investigation, requiring comparison across aggregated values of different features/columns, could be, a researcher wanting to measure the difference in fares between males that survived and males that did not:\n",
    "\n",
    "Print out the difference between mean fare paid by males that survived, and mean fare paid by males that did not, appropriately formatted."
   ]
  },
  {
   "cell_type": "code",
   "execution_count": 20,
   "metadata": {},
   "outputs": [
    {
     "name": "stdout",
     "output_type": "stream",
     "text": [
      "Mean of fare paid by male that survived is:- 39.56296296296296\n",
      "Mean of fare paid by male that did not survived is:- 25.250478011472275\n",
      "Difference of fare between them is:- 14.312484951490688\n"
     ]
    }
   ],
   "source": [
    "# Answer to question 5.\n",
    "\n",
    "#reading dataset as numpy array using function genfromtext() by skiping the header part from the file and splitting at \",\"\n",
    "dataset = np.genfromtxt(\"titanic_mod.csv\",dtype=\"int\",skip_header=1,delimiter=\",\")    \n",
    "total_s_male_fare=0                 #variable for total fare of males survived\n",
    "s_male_count=0                      #variable for total male survived\n",
    "ns_male_count=0                     #variable for total non surviving males\n",
    "total_ns_male_fare=0                #variable for total fare of non surviving males\n",
    "for i in dataset:                   #loop to iterate through the dataset\n",
    "    if i[1]==1 and i[3]==1:             #checking surviving males and increamenting the counter variables\n",
    "        total_s_male_fare+=i[7]\n",
    "        s_male_count+=1\n",
    "    if i[1]==0 and i[3]==1:             #comparing non survival and males and increamenting the counter variables\n",
    "        total_ns_male_fare+=i[7]\n",
    "        ns_male_count+=1\n",
    "mean_s_fare=total_s_male_fare/s_male_count              #mean of fares of surviving males\n",
    "mean_ns_fare=total_ns_male_fare/ns_male_count           #mean of fares of non surviving males\n",
    "\n",
    "#printing all the desired values according to the question\n",
    "print(f\"Mean of fare paid by male that survived is:- {'%.3f'%mean_s_fare}\")\n",
    "print(f\"Mean of fare paid by male that did not survived is:- {'%.3f'%mean_ns_fare}\")\n",
    "print(f\"Difference of fare between them is:- {'%.3f'%(mean_s_fare-mean_ns_fare)}\")"
   ]
  },
  {
   "cell_type": "markdown",
   "metadata": {},
   "source": [
    "Q6.\n",
    "A research think-tank has tasked you with automating some of the common queries that their members make about the Titanic dataset.\n",
    "\n",
    ">Write a simple Python program for the user to query the data based on his/her given inputs. When a user enters an option from 0 to 3, the program will process the option accordingly. After the option has been processed, the program will display the main menu again and the process is repeated until the user chooses to exit.\n",
    "The options are explained in Questions 7 to 9.\n",
    "\n",
    "\n",
    "Q7.\n",
    "Correlation between quantities may indicate some underlying relationship or likely pattern of behaviour.\n",
    "\n",
    ">For the Compute Correlation option, display a numbered list of all the column header names and prompt the user to input the numbers representing the two quantities for the computation of correlation. The computed correlation should be rounded off to 3 decimal places.\n",
    "\n",
    "\n",
    "Q8.\n",
    "In the absence of actual lifeboat data, survivor age can be used to gauge if certain demographics were allowed on the lifeboats first.\n",
    "\n",
    ">Prompt the user to enter the passenger class number, before displaying the corresponding rows of the 20 oldest survivors for that passenger class, in order from oldest to youngest.\n",
    "\n",
    "\n",
    "Q9.\n",
    "It was reported that while generally women were allowed onto lifeboats first, researchers are also keen to identify female survivors with larger numbers of family members onboard (not including themselves).\n",
    "\n",
    ">Write a simple lambda function to calculate a new numpy array column containing each passenger's non-self family members onboard, by adding the count of sibling and/or spouses, to the count of parents and/or children, for each passenger.\n",
    "\n",
    ">Append this column to the existing numpy 2-D array of values (you may need to use numpy.reshape() before appending) and display the top 20 rows of female survivors, ordered by highest to lowest by non-self family member count primarily, and in case of a tie, by highest to lowest fare secondarily.\n",
    "\n"
   ]
  },
  {
   "cell_type": "code",
   "execution_count": 13,
   "metadata": {},
   "outputs": [
    {
     "name": "stdout",
     "output_type": "stream",
     "text": [
      "\n",
      "        Main Menu\n",
      "        \n",
      "        1. Compute Correlation\n",
      "        2. Ranked List of 20 Oldest Survivors by Passenger Cabin Class Number\n",
      "        3. Ranked List of 20 Female Survivors by Highest Non-Self Family Member Onboard Count and then by Highest fare\n",
      "        0. Exit\n",
      "        \n",
      "List of 20 Female Survivors by Highest Non-self Family Member Onboard Count, then by Highest Fare, in descending order\n",
      "\n",
      "passenger_id\tsurvived\tpclass\t\tgender\t\t age\t sibsp\t parch\t  fare\t\t sibsp_parch\n",
      "592 \t\t 1 \t\t 3 \t\t 0 \t\t 38 \t 1 \t 5 \t  31.39 \t 6\n",
      "589 \t\t 1 \t\t 3 \t\t 0 \t\t 5 \t 4 \t 2 \t  31.39 \t 6\n",
      "571 \t\t 1 \t\t 3 \t\t 0 \t\t 17 \t 4 \t 2 \t   7.92 \t 6\n",
      "101 \t\t 1 \t\t 1 \t\t 0 \t\t 28 \t 3 \t 2 \t 263.00 \t 5\n",
      "102 \t\t 1 \t\t 1 \t\t 0 \t\t 23 \t 3 \t 2 \t 263.00 \t 5\n",
      "105 \t\t 1 \t\t 1 \t\t 0 \t\t 60 \t 1 \t 4 \t 263.00 \t 5\n",
      "100 \t\t 1 \t\t 1 \t\t 0 \t\t 24 \t 3 \t 2 \t 263.00 \t 5\n",
      "499 \t\t 1 \t\t 2 \t\t 0 \t\t 24 \t 2 \t 3 \t  18.75 \t 5\n",
      "221 \t\t 1 \t\t 1 \t\t 0 \t\t 18 \t 2 \t 2 \t 262.38 \t 4\n",
      "222 \t\t 1 \t\t 1 \t\t 0 \t\t 21 \t 2 \t 2 \t 262.38 \t 4\n",
      "224 \t\t 1 \t\t 1 \t\t 0 \t\t 48 \t 1 \t 3 \t 262.38 \t 4\n",
      "407 \t\t 1 \t\t 2 \t\t 0 \t\t 54 \t 1 \t 3 \t  23.00 \t 4\n",
      "82 \t\t 1 \t\t 1 \t\t 0 \t\t 27 \t 1 \t 2 \t  52.00 \t 3\n",
      "436 \t\t 1 \t\t 2 \t\t 0 \t\t 22 \t 1 \t 2 \t  41.58 \t 3\n",
      "433 \t\t 1 \t\t 2 \t\t 0 \t\t 1 \t 1 \t 2 \t  39.58 \t 3\n",
      "541 \t\t 1 \t\t 2 \t\t 0 \t\t 33 \t 1 \t 2 \t  27.75 \t 3\n",
      "538 \t\t 1 \t\t 2 \t\t 0 \t\t 1 \t 1 \t 2 \t  27.75 \t 3\n",
      "494 \t\t 1 \t\t 2 \t\t 0 \t\t 30 \t 3 \t 0 \t  21.00 \t 3\n",
      "701 \t\t 1 \t\t 3 \t\t 0 \t\t 1 \t 1 \t 2 \t  20.57 \t 3\n",
      "703 \t\t 1 \t\t 3 \t\t 0 \t\t 33 \t 1 \t 2 \t  20.57 \t 3\n"
     ]
    }
   ],
   "source": [
    "# Answer to questions 6, 7, 8, 9.\n",
    "\n",
    "import math\n",
    "import numpy as np\n",
    "\n",
    "# driver code\n",
    "# Answer to ques 6\n",
    "def main():\n",
    "    \n",
    "    #reading dataset as numpy array using function genfromtext() by skiping the header part from the file and splitting at \",\"\n",
    "    dataset = np.genfromtxt(\"titanic_mod.csv\",skip_header=1,delimiter=\",\")\n",
    "    print('''\n",
    "        Main Menu\n",
    "        \n",
    "        1. Compute Correlation\n",
    "        2. Ranked List of 20 Oldest Survivors by Passenger Cabin Class Number\n",
    "        3. Ranked List of 20 Female Survivors by Highest Non-Self Family Member Onboard Count and then by Highest fare\n",
    "        0. Exit\n",
    "        ''')\n",
    "    option=int(input(\"Enter your option:\"))     #taking user's choice \n",
    "    if option==1:\n",
    "        correlation(dataset)            #calling function to find correlation between two values\n",
    "    elif option==2:\n",
    "        oldest_survivor(dataset)        #calling function to find ranked list of 20 oldest survivor by their class\n",
    "    elif option==3:\n",
    "        female_survivor(dataset)        #calling function to find ranked list of 20 female passengers with highest number of family members and by highest fare\n",
    "    elif option==0:\n",
    "        exit()\n",
    "\n",
    "#Answer to question 7\n",
    "def correlation(dataset):               #function to compute correlation\n",
    "    print(\"List of header names for performing correlation\")\n",
    "    print('''\n",
    "            0. passenger_id\n",
    "            1. survived\n",
    "            2. p_class\n",
    "            3. gender\n",
    "            4. age\n",
    "            5. sibsp\n",
    "            6. parch\n",
    "            7. fare ''')\n",
    "    header_dict={0:\"passenger_id\",1:\"survived\",2:\"p_class\",3:\"gender\",4:\"age\",5:\"sibsp\",6:\"parch\",7:\"fare\"}\n",
    "    first_quan=int(input(\"Enter the number for first quantity\"))            #first quantity to compare\n",
    "    second_quan=int(input(\"Enter the number for second quantity\"))          #second quantity to compare\n",
    "    first_quan_list=[]                  #list of first quantity\n",
    "    second_quan_list=[]                 #list of second quantity \n",
    "\n",
    "    for i in dataset:\n",
    "        first_quan_list.append(i[first_quan])           #adding first quantity to the list\n",
    "        second_quan_list.append(i[second_quan])         #adding second quantity to the list\n",
    "        numerator = 0                                   #numerator of correlation\n",
    "        first_quan_list_mean= np.mean(first_quan_list)          #mean of first list of first quantity\n",
    "        second_quan_list_mean = np.mean(second_quan_list)       #mean of first list of second quantity\n",
    "        sigma_M1=0          #Σ(x-x(mean))\n",
    "        sigma_M2 = 0        #Σ(y-y(mean))\n",
    "        for i in range(0,len(first_quan_list)):\n",
    "            M1 = (first_quan_list[i]-first_quan_list_mean)      # (x-x(mean))\n",
    "            M2 = (second_quan_list[i]-second_quan_list_mean)    # (y-y(mean))\n",
    "            product = M1*M2             #(x-x(mean))*(y-y(mean))\n",
    "            numerator += product        #Σ(x-x(mean))*(y-y(mean))\n",
    "            sigma_M1 += M1**2           #Σ(x-x(mean))^2\n",
    "            sigma_M2 += M2**2           #Σ(y-y(mean))^2\n",
    "            \n",
    "\n",
    "    denominator = math.sqrt(sigma_M1*sigma_M2)      # √((Σ(x-x(mean))^2)-(Σ(x-x(mean))^2))\n",
    "\n",
    "    correlation = numerator/denominator             #(Σ(x-x(mean))*(y-y(mean))) / √((Σ(x-x(mean))^2)-(Σ(x-x(mean))^2))\n",
    "    \n",
    "    print('The correlation between {} and {} is '.format(header_dict[first_quan],header_dict[second_quan]),'%.3f'%correlation)       #printing the value of correaltion(rounded off to 3 decimal places)\n",
    "\n",
    "\n",
    "#answer to question 8\n",
    "def oldest_survivor(dataset):           #function to display 20 oldest survivor of specific passenger cabin class\n",
    "    passenger_cabin_class=int(input(\"Enter the passenger cabin class number (1 to 3): \"))               #taking input of passenger cabin class\n",
    "    np.set_printoptions(suppress=True)                                  #using set_printoptions() function to remove the extra zeros\n",
    "    survivor=[]                                                         #blank list\n",
    "    for i in dataset:                                   #loop to iterate through the dataset\n",
    "        if 1==i[1] and passenger_cabin_class==i[2]:                 #checking the cabin class and passenger is alive \n",
    "            survivor.append(i)                                      #if above condition satisfy appending to the list\n",
    "\n",
    "    sorted_list = sorted(survivor, key=lambda x:x[4],reverse=True)      #sorting the list on the basis of age\n",
    "    sorted_list = np.array(sorted_list)                                 #converting the list into numpy array\n",
    "\n",
    "    #printing the output in the desired format \n",
    "    print(\"List of 20 Oldest Survivors for Passenger Cabin Class Number \",passenger_cabin_class,\"\\n\")\n",
    "    print('passenger_id\\tsurvived\\tpclass\\t\\tgender\\t\\t age\\t\\t sibsp\\t\\t parch\\t\\t fare')\n",
    "    for i in range(0,20):\n",
    "        print('%.0f'%sorted_list[i][0],'\\t\\t','%.0f'%sorted_list[i][1],'\\t\\t','%.0f'%sorted_list[i][2],'\\t\\t','%.0f'%sorted_list[i][3],'\\t\\t','%.0f'%sorted_list[i][4],'\\t\\t','%.0f'%sorted_list[i][5],'\\t\\t','%.0f'%sorted_list[i][6],'\\t\\t',sorted_list[i][7])\n",
    "\n",
    "#answer to question 9\n",
    "def female_survivor(dataset):               #function to identify the female survivor with large number of family members on the ship\n",
    "    newNump = lambda val1,val2: val1+val2               #lambda function (one liner function)\n",
    "    new_column = []                                     #blank list\n",
    "    for i in dataset:                            #loop to iterate through the dataset\n",
    "        col = newNump(i[5],i[6])                \n",
    "        new_column.append(col)                  #appending specific data to the list from dataset\n",
    "    dataset = np.column_stack((dataset, new_column))        \n",
    "\n",
    "    female_survivors = []                       #blank list \n",
    "    for i in dataset:                           #loop to iterate through the dataset\n",
    "        if i[3] == 0 and i[1] == 1:             \n",
    "            female_survivors.append(i)          #appending the specific data from the dataset to list \n",
    "\n",
    "\n",
    "    female_survivors = np.array(female_survivors)                                   #coverting the list into numpy array\n",
    "    female_survivors = female_survivors[female_survivors[:,8].argsort()[::-1]]      #sorting numpy array using argsort according to non self family member\n",
    "\n",
    "    top_female_survivors = []                               #blank list\n",
    "    for i in range(0,20):                                   #loop to iterate through the dataset\n",
    "        top_female_survivors.append(female_survivors[i])    #appending the top 20 female surviour\n",
    "\n",
    "    #sorting on the basis of highest to lowest fares in case of clashes in family member count  \n",
    "    top_6 = []                          #list of female survivors with 6 family members                     \n",
    "    top_5 = []                          #list of female survivors with 5 family members\n",
    "    top_4 = []                          #list of female survivors with 4 family members\n",
    "    top_3 = []                          #list of female survivors with 3 family members\n",
    "    #adding element to the desired list \n",
    "    for i in top_female_survivors:      \n",
    "        if i[8]==6:\n",
    "            top_6.append(i)\n",
    "        elif i[8]==5:\n",
    "            top_5.append(i)\n",
    "        elif i[8]==4:\n",
    "            top_4.append(i) \n",
    "        elif i[8]==3:\n",
    "            top_3.append(i)  \n",
    "\n",
    "    #converting the list to numpy array\n",
    "    top_6 = np.array(top_6)\n",
    "    top_5 = np.array(top_5)\n",
    "    top_4 = np.array(top_4)\n",
    "    top_3 = np.array(top_3)\n",
    "    #sorting the numpy arrays on the basis of fares\n",
    "    top_6 = top_6[top_6[:,7].argsort()[::-1]]\n",
    "    top_5 = top_5[top_5[:,7].argsort()[::-1]]\n",
    "    top_4 = top_4[top_4[:,7].argsort()[::-1]]\n",
    "    top_3 = top_3[top_3[:,7].argsort()[::-1]]\n",
    "\n",
    "    top_20 = np.vstack((top_6, top_5,top_4,top_3))      #conversion into stack array\n",
    "\n",
    "    #printing in the desired output format\n",
    "    print(\"List of 20 Female Survivors by Highest Non-self Family Member Onboard Count, then by Highest Fare, in descending order\\n\")\n",
    "    print('passenger_id\\tsurvived\\tpclass\\t\\tgender\\t\\t age\\t sibsp\\t parch\\t  fare\\t\\t sibsp_parch')\n",
    "    for i in range(0,20):\n",
    "        print('%.0f'%top_20[i][0],'\\t\\t','%.0f'%top_20[i][1],'\\t\\t','%.0f'%top_20[i][2],'\\t\\t','%.0f'%top_20[i][3],'\\t\\t','%.0f'%top_20[i][4],'\\t','%.0f'%top_20[i][5],'\\t','%.0f'%top_20[i][6],'\\t',\"{:6.2f}\".format(top_20[i][7]),'\\t','%.0f'%top_20[i][8])\n",
    "\n",
    "if __name__ == \"__main__\":\n",
    "    main()\n"
   ]
  },
  {
   "cell_type": "markdown",
   "metadata": {},
   "source": [
    "## End of Notebook"
   ]
  },
  {
   "cell_type": "code",
   "execution_count": null,
   "metadata": {},
   "outputs": [],
   "source": []
  }
 ],
 "metadata": {
  "kernelspec": {
   "display_name": "Python 3 (ipykernel)",
   "language": "python",
   "name": "python3"
  },
  "language_info": {
   "codemirror_mode": {
    "name": "ipython",
    "version": 3
   },
   "file_extension": ".py",
   "mimetype": "text/x-python",
   "name": "python",
   "nbconvert_exporter": "python",
   "pygments_lexer": "ipython3",
   "version": "3.9.5"
  }
 },
 "nbformat": 4,
 "nbformat_minor": 4
}
